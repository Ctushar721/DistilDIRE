{
 "cells": [
  {
   "cell_type": "code",
   "execution_count": null,
   "metadata": {},
   "outputs": [],
   "source": [
    "from truemedia_dataset import TMDistilDireDataset\n",
    "from torch.utils.data import DataLoader\n",
    "import time \n",
    "from tqdm.auto import tqdm \n",
    "\n",
    "\n",
    "dataset= TMDistilDireDataset(\"/workspace/DistilDIRE/datasets/distil-train-imagenet\")\n",
    "dataloader = DataLoader(dataset, batch_size=128, shuffle=True, num_workers=4)\n",
    "\n",
    "st = time.time()\n",
    "for _ in tqdm(dataloader):\n",
    "    pass\n",
    "\n",
    "end = time.time()\n",
    "print(f\"Time taken: {end-st:.2f} seconds\")"
   ]
  },
  {
   "cell_type": "code",
   "execution_count": 1,
   "metadata": {},
   "outputs": [],
   "source": [
    "import sys \n",
    "\n",
    "sys.path.append(\"..\")"
   ]
  },
  {
   "cell_type": "code",
   "execution_count": 1,
   "metadata": {},
   "outputs": [
    {
     "name": "stdout",
     "output_type": "stream",
     "text": [
      "/home/ubuntu/y1/DistilDIRE\n"
     ]
    },
    {
     "name": "stderr",
     "output_type": "stream",
     "text": [
      "/home/ubuntu/.local/lib/python3.9/site-packages/IPython/core/magics/osm.py:417: UserWarning: using dhist requires you to install the `pickleshare` library.\n",
      "  self.shell.db['dhist'] = compress_dhist(dhist)[-100:]\n"
     ]
    }
   ],
   "source": [
    "%cd ../"
   ]
  },
  {
   "cell_type": "code",
   "execution_count": 2,
   "metadata": {},
   "outputs": [
    {
     "data": {
      "text/plain": [
       "'/home/ubuntu/y1/DistilDIRE'"
      ]
     },
     "execution_count": 2,
     "metadata": {},
     "output_type": "execute_result"
    }
   ],
   "source": [
    "%pwd"
   ]
  },
  {
   "cell_type": "code",
   "execution_count": 3,
   "metadata": {},
   "outputs": [],
   "source": [
    "from dataset.truemedia_dataset import TMDistilDireDataset\n",
    "from torch.utils.data import DataLoader\n",
    "import time \n",
    "from tqdm.auto import tqdm \n",
    "\n",
    "\n",
    "dataset= TMDistilDireDataset(\"/home/ubuntu/y1/DistilDIRE/datasets/truemedia-external\")\n",
    "dataloader = DataLoader(dataset, batch_size=1, shuffle=False, num_workers=0)\n",
    "\n"
   ]
  },
  {
   "cell_type": "code",
   "execution_count": 4,
   "metadata": {},
   "outputs": [
    {
     "name": "stdout",
     "output_type": "stream",
     "text": [
      "ADM model loaded...\n",
      "tensor([[[[ 1.1321, -0.7132,  0.2148,  ..., -0.2718, -0.3678, -0.0149],\n",
      "          [-0.0071, -0.7552, -0.5162,  ...,  0.2735,  0.2498,  0.6755],\n",
      "          [ 0.6023,  0.0292,  0.3073,  ...,  0.0909, -0.7612, -0.1525],\n",
      "          ...,\n",
      "          [-0.7131, -1.1955,  0.4749,  ..., -0.1511,  0.2259, -0.5236],\n",
      "          [-0.4933, -0.2778,  0.4630,  ..., -0.3126,  0.4446, -0.3325],\n",
      "          [ 0.6923,  0.3400,  0.0312,  ...,  0.1463,  0.5707,  0.0059]],\n",
      "\n",
      "         [[-0.5963, -0.3051,  0.1842,  ...,  0.4366,  0.3779,  0.8317],\n",
      "          [ 0.4516,  0.9346,  0.0650,  ..., -0.0233,  0.0276,  0.4402],\n",
      "          [-0.1025, -0.2953, -0.0144,  ...,  0.4168, -0.6275, -0.6731],\n",
      "          ...,\n",
      "          [ 0.6391,  0.3943, -1.2295,  ..., -0.4218, -0.3623, -0.2390],\n",
      "          [-0.5167,  1.1446,  0.3156,  ..., -0.0815,  0.2540,  0.3389],\n",
      "          [-0.6550,  0.6868, -0.7307,  ...,  0.1885,  0.2306, -0.1552]],\n",
      "\n",
      "         [[-0.3784,  0.8702,  0.2535,  ..., -0.3651, -0.0773,  0.3787],\n",
      "          [-0.7545,  0.3561, -0.0853,  ..., -0.5672, -0.3692, -0.8034],\n",
      "          [-0.0355, -0.4307,  0.4859,  ...,  0.6890,  0.0930, -0.2081],\n",
      "          ...,\n",
      "          [-0.0106,  0.2843,  0.7042,  ...,  0.8218, -0.1644,  0.3818],\n",
      "          [ 0.9107, -0.7992,  0.6230,  ..., -0.4004, -0.7881,  0.6771],\n",
      "          [ 0.6569, -1.6713, -0.4276,  ..., -0.1442, -1.1289,  0.1261]]]]) tensor([[[[ 1.1321, -0.7132,  0.2148,  ..., -0.2718, -0.3678, -0.0149],\n",
      "          [-0.0071, -0.7552, -0.5162,  ...,  0.2735,  0.2498,  0.6755],\n",
      "          [ 0.6023,  0.0292,  0.3073,  ...,  0.0909, -0.7612, -0.1525],\n",
      "          ...,\n",
      "          [-0.7131, -1.1955,  0.4749,  ..., -0.1511,  0.2259, -0.5236],\n",
      "          [-0.4933, -0.2778,  0.4630,  ..., -0.3126,  0.4446, -0.3325],\n",
      "          [ 0.6923,  0.3400,  0.0312,  ...,  0.1463,  0.5707,  0.0059]],\n",
      "\n",
      "         [[-0.5963, -0.3051,  0.1842,  ...,  0.4366,  0.3779,  0.8317],\n",
      "          [ 0.4516,  0.9346,  0.0650,  ..., -0.0233,  0.0276,  0.4402],\n",
      "          [-0.1025, -0.2953, -0.0144,  ...,  0.4168, -0.6275, -0.6731],\n",
      "          ...,\n",
      "          [ 0.6391,  0.3943, -1.2295,  ..., -0.4218, -0.3623, -0.2390],\n",
      "          [-0.5167,  1.1446,  0.3156,  ..., -0.0815,  0.2540,  0.3389],\n",
      "          [-0.6550,  0.6868, -0.7307,  ...,  0.1885,  0.2306, -0.1552]],\n",
      "\n",
      "         [[-0.3784,  0.8702,  0.2535,  ..., -0.3651, -0.0773,  0.3787],\n",
      "          [-0.7545,  0.3561, -0.0853,  ..., -0.5672, -0.3692, -0.8034],\n",
      "          [-0.0355, -0.4307,  0.4859,  ...,  0.6890,  0.0930, -0.2081],\n",
      "          ...,\n",
      "          [-0.0106,  0.2843,  0.7042,  ...,  0.8218, -0.1644,  0.3818],\n",
      "          [ 0.9107, -0.7992,  0.6230,  ..., -0.4004, -0.7881,  0.6771],\n",
      "          [ 0.6569, -1.6713, -0.4276,  ..., -0.1442, -1.1289,  0.1261]]]])\n",
      "tensor([[[[True, True, True,  ..., True, True, True],\n",
      "          [True, True, True,  ..., True, True, True],\n",
      "          [True, True, True,  ..., True, True, True],\n",
      "          ...,\n",
      "          [True, True, True,  ..., True, True, True],\n",
      "          [True, True, True,  ..., True, True, True],\n",
      "          [True, True, True,  ..., True, True, True]],\n",
      "\n",
      "         [[True, True, True,  ..., True, True, True],\n",
      "          [True, True, True,  ..., True, True, True],\n",
      "          [True, True, True,  ..., True, True, True],\n",
      "          ...,\n",
      "          [True, True, True,  ..., True, True, True],\n",
      "          [True, True, True,  ..., True, True, True],\n",
      "          [True, True, True,  ..., True, True, True]],\n",
      "\n",
      "         [[True, True, True,  ..., True, True, True],\n",
      "          [True, True, True,  ..., True, True, True],\n",
      "          [True, True, True,  ..., True, True, True],\n",
      "          ...,\n",
      "          [True, True, True,  ..., True, True, True],\n",
      "          [True, True, True,  ..., True, True, True],\n",
      "          [True, True, True,  ..., True, True, True]]]])\n"
     ]
    }
   ],
   "source": [
    "from utils.trainer import Trainer\n",
    "\n",
    "class DummyCfg:\n",
    "    def __init__(self) -> None:\n",
    "        self.only_img = True\n",
    "        self.only_eps = False\n",
    "        self.isTrain = False \n",
    "        self.dataset_test_root = ''\n",
    "        self.arch = ''\n",
    "        self.kd_weight = 0 \n",
    "        self.val_every = 1\n",
    "        self.reproduce_dire = False\n",
    "        self.ckpt_dir = ''\n",
    "        self.nepoch=0\n",
    "        self.optim = \"adam\"\n",
    "        self.lr = 0.0001\n",
    "        self.beta1=0.99\n",
    "        self.warmup = False\n",
    "\n",
    "cfg = DummyCfg()\n",
    "trainer = Trainer(cfg, dataloader, dataloader, None, distributed=False)\n",
    "for data_and_paths in trainer.train_loader:\n",
    "    data, path = data_and_paths\n",
    "    img, dire, eps, label = data\n",
    "    trainer.set_input(data, istrain=False)\n",
    "    print(eps, trainer.eps.cpu())\n",
    "    print(eps==trainer.eps.cpu())\n",
    "\n",
    "    break\n"
   ]
  }
 ],
 "metadata": {
  "kernelspec": {
   "display_name": "Python 3",
   "language": "python",
   "name": "python3"
  },
  "language_info": {
   "codemirror_mode": {
    "name": "ipython",
    "version": 3
   },
   "file_extension": ".py",
   "mimetype": "text/x-python",
   "name": "python",
   "nbconvert_exporter": "python",
   "pygments_lexer": "ipython3",
   "version": "3.9.4"
  }
 },
 "nbformat": 4,
 "nbformat_minor": 2
}
